{
 "cells": [
  {
   "cell_type": "code",
   "execution_count": 13,
   "id": "e844c650-cfb4-40db-8107-88cd6219a7f0",
   "metadata": {},
   "outputs": [],
   "source": [
    "import pandas as pd\n",
    "import plotly.graph_objects as go\n",
    "import plotly.express as px\n",
    "import plotly.io as pio\n",
    "#pio.renderers.default = 'colab'   # try changing this in case your plots aren't shown\n",
    "import numpy as np\n",
    "from plotly.subplots import make_subplots\n",
    "import json\n",
    "import geojson"
   ]
  },
  {
   "cell_type": "markdown",
   "id": "f742ddfe-dd7a-42ed-bdd4-5c7a71e927f9",
   "metadata": {},
   "source": []
  },
  {
   "cell_type": "markdown",
   "id": "8a7504de-3b99-4fa9-a785-059f4c152fb5",
   "metadata": {},
   "source": [
    "## 1. These is data regarding plotting of 5 big supermarkets in switzerland"
   ]
  },
  {
   "cell_type": "code",
   "execution_count": 14,
   "id": "c69a20fd-e8bb-4c97-abcf-dca82bed99c9",
   "metadata": {},
   "outputs": [],
   "source": [
    "plots_supermarket=pd.read_csv(\"supermarkets_new.csv\")"
   ]
  },
  {
   "cell_type": "code",
   "execution_count": 15,
   "id": "3b0a2d92-4a37-442f-b7df-1b451b5f093e",
   "metadata": {},
   "outputs": [],
   "source": [
    "del plots_supermarket['Unnamed: 0']"
   ]
  },
  {
   "cell_type": "code",
   "execution_count": null,
   "id": "4cb36435-1cbd-4cee-895f-d7d9fe112c4c",
   "metadata": {},
   "outputs": [],
   "source": [
    "import plotly.express as px\n",
    "\n",
    "fig = px.scatter_mapbox(plots_supermarket, lat='geometry.location.lat', lon='geometry.location.lng', hover_name=\"name\",\n",
    "                        zoom=6, height=30, color= 'store_name')\n",
    "fig.update_layout(mapbox_style=\"carto-positron\")\n",
    "fig.update_layout(margin={\"r\":0,\"t\":0,\"l\":0,\"b\":0}, height=800)\n",
    "fig.show()"
   ]
  },
  {
   "cell_type": "markdown",
   "id": "d9c09a52-0eba-453d-8185-8591c4fb9f5a",
   "metadata": {},
   "source": [
    "## 2. Keon"
   ]
  },
  {
   "cell_type": "markdown",
   "id": "39df29da-02b4-4727-a7b2-e2935b16b7d9",
   "metadata": {},
   "source": [
    "## 3. Approach through Macro economic Factors for new store location"
   ]
  },
  {
   "cell_type": "code",
   "execution_count": 17,
   "id": "558183c0-3ce3-4aac-8336-7e3c688a16c4",
   "metadata": {},
   "outputs": [],
   "source": [
    "bip_kanton = pd.read_csv('BIP_Kanton_2019.csv')\n",
    "population_df = pd.read_csv('df_population_cleaned_final.csv')\n",
    "income_zürich_df = pd.read_csv('income_zurich_2021.csv')\n",
    "# Open the Geojson, and change the key for the maps - BFS number, works not with a point\n",
    "with open(\"gemeinden-geojson.geojson\") as f:\n",
    "    gj = geojson.load(f)\n",
    "\n",
    "for i in range(len(gj[\"features\"])):\n",
    "    gj[\"features\"][i]['properties']['gemeinde_BFS_NUMMER'] = gj[\"features\"][i]['properties'].pop('gemeinde.BFS_NUMMER')\n",
    "\n",
    "#Just to check\n",
    "#gj['features'][2000]['properties']"
   ]
  },
  {
   "cell_type": "code",
   "execution_count": null,
   "id": "16ec62ce-f6e5-40e9-856d-54c2196ee07d",
   "metadata": {},
   "outputs": [],
   "source": []
  },
  {
   "cell_type": "code",
   "execution_count": null,
   "id": "dae98e4e-f965-41d1-b20b-bde9aafdef30",
   "metadata": {},
   "outputs": [],
   "source": [
    "\n",
    "#Population density in Switzerland per Commune, use the csv df_population_cleaned_final.csv\n",
    "\n",
    "#we decided not to show"
   ]
  },
  {
   "cell_type": "code",
   "execution_count": null,
   "id": "403227fc-3afc-4794-94f8-ce9a9948192e",
   "metadata": {},
   "outputs": [],
   "source": [
    "#Change of the poulation in the Communes in percent, use the csv df_population_cleaned_final.csv\n",
    "\n",
    "fig_pop_change = go.Figure(go.Choroplethmapbox(geojson=gj, locations=population_df.Number_of_commune, z=population_df.Population_change_perc,\n",
    "                                    colorscale=\"Viridis\",featureidkey=\"properties.gemeinde_BFS_NUMMER\",\n",
    "                                    zmin = -20 , zmax = 30, marker_opacity=0.5, marker_line_width=0))\n",
    "\n",
    "fig_pop_change.update_layout(mapbox_style=\"carto-positron\",\n",
    "                  mapbox_zoom=6, mapbox_center =  {\"lat\": 46.8200, \"lon\": 8.4070} )\n",
    "\n",
    "fig_pop_change.update_layout(margin={\"r\":0,\"t\":0,\"l\":0,\"b\":0})\n",
    "fig_pop_change.show()\n"
   ]
  },
  {
   "cell_type": "code",
   "execution_count": null,
   "id": "d81546a0-410e-4176-8c06-3916eb316035",
   "metadata": {},
   "outputs": [],
   "source": [
    "# Show the average income for the Kanton of Zürich, use the csv income_zürich_2021.csv\n",
    "\n",
    "fig_inc = go.Figure(go.Choroplethmapbox(geojson=gj, locations=income_zürich_df.BFS_NR, z=income_zürich_df.INDIKATOR_VALUE,\n",
    "                                    colorscale=\"Viridis\",featureidkey=\"properties.gemeinde_BFS_NUMMER\",\n",
    "                                    zmin = 60000 , zmax = 100000, marker_opacity=0.5, marker_line_width=0))\n",
    "\n",
    "fig_inc.update_layout(mapbox_style=\"carto-positron\",\n",
    "                  mapbox_zoom=6, mapbox_center = {\"lat\": 47.3769, \"lon\": 8.5417})\n",
    "\n",
    "fig_inc.update_layout(margin={\"r\":0,\"t\":0,\"l\":0,\"b\":0})\n",
    "fig_inc.show()\n"
   ]
  },
  {
   "cell_type": "code",
   "execution_count": null,
   "id": "14a792be-3af0-41bd-b040-7d7904201ab5",
   "metadata": {},
   "outputs": [],
   "source": [
    "#GDP per Kantone, use the csv BIP_Kanton_2019.csv\n",
    "\n",
    "bip_kanton = bip_kanton.sort_values(by='GDP_2019',ascending=False)\n",
    "\n",
    "fig_gdp = px.bar(bip_kanton, x='Kanton_name', y='GDP_2019', labels={\n",
    "                     \"Kanton_name\": \"Name of the Kantones\",\n",
    "                     \"GDP_2019\": \"GDP in millions (CHF)\"})\n",
    "\n",
    "fig_gdp.update_layout(title = 'GDP in millions (CFH) per Kanton in 2019', title_x=0.5)\n",
    "fig_gdp.show()"
   ]
  },
  {
   "cell_type": "markdown",
   "id": "4ee8bf80-0f3c-4949-8d4c-86072564641b",
   "metadata": {},
   "source": [
    "## 4. Approach through presence of other stores in each Commune"
   ]
  },
  {
   "cell_type": "code",
   "execution_count": 25,
   "id": "d6661166-6d89-46d4-81a0-0be57bcba6c8",
   "metadata": {},
   "outputs": [],
   "source": [
    "merged_df_only_relevant_big_supermarkets = pd.read_csv(\"C:/Users/marco_bk6g0i2/Desktop/GitLab Sit Academy/marco-ferrari/03_Visualization/day5-6/merged_df_only_relevant_big_supermarkets.csv\")\n",
    "#merged_df_only_relevant_big_supermarkets.head()"
   ]
  },
  {
   "cell_type": "code",
   "execution_count": null,
   "id": "7ae47e24-1ed7-439f-914d-5dd87b6f0676",
   "metadata": {},
   "outputs": [],
   "source": [
    "# showing only the N of Supermarkets per 1000 residents\n",
    "\n",
    "fig = go.Figure(go.Choroplethmapbox(geojson=gj, locations=merged_df_only_relevant_big_supermarkets.Number_of_commune, z=merged_df_only_relevant_big_supermarkets.N_markets_per_1k_residents,\n",
    "                                    colorscale=\"RdBu\",featureidkey=\"properties.gemeinde_BFS_NUMMER\",\n",
    "                                    #text=pop_clean['text'],\n",
    "                                    zmin = 0 , zmax = 10, marker_opacity=0.5, marker_line_width=0))\n",
    "                \n",
    "fig.update_layout(mapbox_style=\"carto-positron\",\n",
    "                  mapbox_zoom=6, mapbox_center = {\"lat\": 46.8200, \"lon\": 8.4070})\n",
    "\n",
    "fig.update_layout(margin={\"r\":0,\"t\":0,\"l\":0,\"b\":0})\n",
    "fig.show()"
   ]
  },
  {
   "cell_type": "code",
   "execution_count": null,
   "id": "4d0d42e4-d42a-4d79-b399-25d7e7dd4658",
   "metadata": {
    "tags": []
   },
   "outputs": [],
   "source": [
    "# showing only the big chain Supermarkets per 1000 residents\n",
    "\n",
    "\n",
    "fig = go.Figure(go.Choroplethmapbox(geojson=gj, locations=merged_df_only_relevant_big_supermarkets.Number_of_commune, z=merged_df_only_relevant_big_supermarkets.N_big_markets_per_1k_residents,\n",
    "                                    colorscale=\"Viridis\",featureidkey=\"properties.gemeinde_BFS_NUMMER\",\n",
    "                                    #text=pop_clean['text'],\n",
    "                                    zmin = 0 , zmax = 1, marker_opacity=0.5, marker_line_width=0))\n",
    "                \n",
    "fig.update_layout(mapbox_style=\"carto-positron\",\n",
    "                  mapbox_zoom=6, mapbox_center = {\"lat\": 46.8200, \"lon\": 8.4070})\n",
    "\n",
    "fig.update_layout(margin={\"r\":0,\"t\":0,\"l\":0,\"b\":0})\n",
    "\n",
    "\n",
    "\n",
    "fig.show()"
   ]
  },
  {
   "cell_type": "code",
   "execution_count": null,
   "id": "485280fe-3768-4f3f-b576-7f26ed4b8dc6",
   "metadata": {},
   "outputs": [],
   "source": []
  }
 ],
 "metadata": {
  "kernelspec": {
   "display_name": "VIZ",
   "language": "python",
   "name": "viz"
  },
  "language_info": {
   "codemirror_mode": {
    "name": "ipython",
    "version": 3
   },
   "file_extension": ".py",
   "mimetype": "text/x-python",
   "name": "python",
   "nbconvert_exporter": "python",
   "pygments_lexer": "ipython3",
   "version": "3.10.8"
  }
 },
 "nbformat": 4,
 "nbformat_minor": 5
}
